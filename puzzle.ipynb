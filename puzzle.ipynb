{
 "cells": [
  {
   "cell_type": "code",
   "execution_count": 2,
   "metadata": {},
   "outputs": [],
   "source": [
    "import random"
   ]
  },
  {
   "cell_type": "markdown",
   "metadata": {},
   "source": [
    "Implementing [this fascinating puzzle](http://datagenetics.com/blog/december12014/index.html) in Python! The setup is as follows:\n",
    "\n",
    "Alice and Bob are trapped in jail and can escape only if they beat the warden at this puzzle - he takes a chessboard and puts a coin on every square, either heads or tails randomly. \n",
    "\n",
    "He then picks one magic square, shown only to Alice -  Alice can then flip ONE coin on the board. \n",
    "\n",
    "To escape, Bob must pick the magic square - he only sees the board after the coin has been flipped. How do they do it?\n",
    "\n",
    "At first it blew my mind that there could even be a mathematical solution with no loopholes to this puzzle! But with $64 = 2^6$ squares..."
   ]
  },
  {
   "cell_type": "code",
   "execution_count": null,
   "metadata": {},
   "outputs": [],
   "source": [
    "# First, we'll generate a chessboard - a list of 64 0/1s, 1 for heads, 0 for tails.\n",
    "def make_board():\n",
    "    board = []\n",
    "    for _ in range(64):\n",
    "        flip = random.random()\n",
    "        if flip > 0.5:\n",
    "            board.append(1)\n",
    "        else:\n",
    "            board.append(0)\n",
    "    return board"
   ]
  },
  {
   "cell_type": "code",
   "execution_count": 56,
   "metadata": {},
   "outputs": [
    {
     "name": "stdout",
     "output_type": "stream",
     "text": [
      "[0, 0, 1, 1, 1]\n",
      "[1, 0, 1, 1, 1]\n"
     ]
    }
   ],
   "source": [
    "# Now we make a helper function to flip a given coin:\n",
    "def flip(board, square):\n",
    "    state = board[square]\n",
    "    board[square] = 1 - state\n",
    "\n",
    "board = make_board()\n",
    "print(board[:5])\n",
    "\n",
    "flip(board, 0)\n",
    "\n",
    "print(board[:5])"
   ]
  },
  {
   "cell_type": "code",
   "execution_count": 14,
   "metadata": {},
   "outputs": [
    {
     "data": {
      "text/plain": [
       "'100001'"
      ]
     },
     "execution_count": 14,
     "metadata": {},
     "output_type": "execute_result"
    }
   ],
   "source": [
    "# We're gonna use `format` a lot to get the binary representation of each tile - check it out\n",
    "format(33, '6b')"
   ]
  },
  {
   "cell_type": "code",
   "execution_count": 71,
   "metadata": {},
   "outputs": [
    {
     "data": {
      "text/plain": [
       "'100101'"
      ]
     },
     "execution_count": 71,
     "metadata": {},
     "output_type": "execute_result"
    }
   ],
   "source": [
    "def get_board_parity(board):\n",
    "    # We will count the number of heads in each bit space across the board.\n",
    "    # Ex. if there's a head on tile 42, we have \n",
    "    # bin(42) = '101010', increment 5, 3, and 1 (2^5 + 2^3 + 2^1)\n",
    "    head_counter = {0:0, 1:0, 2:0, 3:0, 4:0, 5:0}\n",
    "\n",
    "    for i in range(len(board)):\n",
    "        if board[i] == 1: # if there's a head on tile i\n",
    "            square = format(i, '06b')\n",
    "            for j in range(6): # for each bit in the tile's binary representation (ex. 101010)\n",
    "                if square[j] == '1':\n",
    "                    head_counter[5-j] += 1 # 5-j since we iterate left-to-right but the leftmost bit is the 2^5 bit\n",
    "\n",
    "    parity = ''\n",
    "    for i in range(5, -1, -1):\n",
    "        num_heads = head_counter[i]\n",
    "        parity += str(num_heads % 2)\n",
    "    return parity\n",
    "\n",
    "get_board_parity(board)\n",
    "\n"
   ]
  },
  {
   "cell_type": "code",
   "execution_count": 108,
   "metadata": {},
   "outputs": [
    {
     "name": "stdout",
     "output_type": "stream",
     "text": [
      "the magic square is: 110001 (49)\n",
      "the board parity is: 011110 (30)\n",
      "the square to flip is: 101111 (47)\n",
      "flipping...\n",
      "the new parity is: 110001 (49)\n",
      "we did it!\n"
     ]
    }
   ],
   "source": [
    "def escape():\n",
    "    # Populate the board with coins\n",
    "    board = make_board()\n",
    "    \n",
    "    # The jailer picks a random square\n",
    "    magic_square = random.randint(0, 63)\n",
    "    magic_square = format(magic_square, '06b')\n",
    "    print(f'the magic square is: {magic_square} ({int(magic_square, 2)})')\n",
    "\n",
    "    # Determine the parity of the board\n",
    "    board_parity = get_board_parity(board)\n",
    "    print(f'the board parity is: {board_parity} ({int(board_parity, 2)})')\n",
    "    \n",
    "    # Calculate which square to flip by XORing the parity with the magic square\n",
    "    square_to_flip = int(magic_square, 2) ^ int(board_parity, 2)\n",
    "    square_to_flip = format(square_to_flip, '06b')\n",
    "    print(f'the square to flip is: {square_to_flip} ({int(square_to_flip, 2)})')\n",
    "    \n",
    "    # Flip the coin and see if we chose correctly!\n",
    "    print('flipping...')\n",
    "    flip(board, int(square_to_flip, 2))\n",
    "    new_parity = get_board_parity(board)\n",
    "    print(f'the new parity is: {new_parity} ({int(new_parity, 2)})')\n",
    "\n",
    "    # If we can determine which square was chosen based on the new board parity, we escape!\n",
    "    if new_parity == magic_square:\n",
    "        print(\"we did it!\")\n",
    "\n",
    "escape()    "
   ]
  }
 ],
 "metadata": {
  "kernelspec": {
   "display_name": "base",
   "language": "python",
   "name": "python3"
  },
  "language_info": {
   "codemirror_mode": {
    "name": "ipython",
    "version": 3
   },
   "file_extension": ".py",
   "mimetype": "text/x-python",
   "name": "python",
   "nbconvert_exporter": "python",
   "pygments_lexer": "ipython3",
   "version": "3.8.8"
  }
 },
 "nbformat": 4,
 "nbformat_minor": 2
}
